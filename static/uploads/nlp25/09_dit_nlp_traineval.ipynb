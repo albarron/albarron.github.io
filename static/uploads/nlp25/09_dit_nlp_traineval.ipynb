{
 "cells": [
  {
   "cell_type": "markdown",
   "metadata": {
    "id": "3gqmbu-lzRJA"
   },
   "source": [
    "# Natural Language Processing 2025.\n",
    "## LM Specialised Translation\n"
   ]
  },
  {
   "cell_type": "markdown",
   "metadata": {
    "id": "PDkCQec8ylnt"
   },
   "source": [
    "# On Evaluation Metrics\n",
    "\n",
    "Let us evaluate some predictions with respect to the _gold standard_"
   ]
  },
  {
   "cell_type": "code",
   "execution_count": null,
   "metadata": {
    "id": "zave2kflyln0"
   },
   "outputs": [],
   "source": [
    "import numpy as np\n",
    "import pandas as pd"
   ]
  },
  {
   "cell_type": "code",
   "execution_count": null,
   "metadata": {
    "id": "ISB1uKwoyln2"
   },
   "outputs": [],
   "source": [
    "# True and predicted classes\n",
    "y_true = np.array([0, 0, 0, 1, 1, 1, 1, 1, 1, 1])\n",
    "y_pred = np.array([0, 0, 1, 1, 1, 1, 1, 0, 0, 0])"
   ]
  },
  {
   "cell_type": "code",
   "execution_count": null,
   "metadata": {
    "id": "Y0WBSSyQyln3"
   },
   "outputs": [],
   "source": [
    "# What the model got right\n",
    "true_positives = ((y_pred == y_true) & (y_pred == 1)).sum()\n",
    "true_negatives = ((y_pred == y_true) & (y_pred == 0)).sum()\n",
    "print(\"true positives:\", true_positives)\n",
    "print(\"true negatives:\", true_negatives)"
   ]
  },
  {
   "cell_type": "code",
   "execution_count": null,
   "metadata": {
    "id": "4uAlpnFxyln5"
   },
   "outputs": [],
   "source": [
    "# What the model got wrong\n",
    "false_positives = ((y_pred != y_true) & (y_pred == 1)).sum()\n",
    "false_negatives = ((y_pred != y_true) & (y_pred == 0)).sum()\n",
    "print(\"false positives:\", false_positives)\n",
    "print(\"false positives:\", false_negatives)"
   ]
  },
  {
   "cell_type": "code",
   "execution_count": null,
   "metadata": {
    "id": "o7T36w45yln6"
   },
   "outputs": [],
   "source": [
    "# Confusion matrix\n",
    "confusion = [[true_positives, false_positives],\n",
    "            [false_negatives, true_negatives]]\n",
    "# print(\"[\")\n",
    "print(confusion[0])\n",
    "print(confusion[1])\n",
    "# print(\"]\")"
   ]
  },
  {
   "cell_type": "code",
   "execution_count": null,
   "metadata": {
    "id": "MwHn20Enyln7"
   },
   "outputs": [],
   "source": [
    "confusion = pd.DataFrame(confusion, columns=[1, 0], index=[1, 0])\n",
    "# columns: labels to use for the resulting frame when data does not have them\n",
    "# index: Index to use for resulting frame\n",
    "confusion.index.name = r'pred \\ truth'\n",
    "confusion"
   ]
  },
  {
   "cell_type": "code",
   "execution_count": null,
   "metadata": {
    "id": "_qxgYgYCyln8"
   },
   "outputs": [],
   "source": [
    "# Precision and recall\n",
    "precision = true_positives / (true_positives + false_positives)\n",
    "recall = true_positives / (true_positives + false_negatives)\n",
    "print(\"precision:\", precision)\n",
    "print(\"recall:\", recall)"
   ]
  },
  {
   "cell_type": "code",
   "execution_count": null,
   "metadata": {
    "id": "5xYqjLVgyln9"
   },
   "outputs": [],
   "source": [
    "# F-measure\n",
    "f = 2 * precision * recall / (precision + recall)\n",
    "f"
   ]
  },
  {
   "cell_type": "markdown",
   "metadata": {
    "id": "1wAL5tWTyln-"
   },
   "source": [
    "end of the notebook"
   ]
  },
  {
   "cell_type": "code",
   "execution_count": null,
   "metadata": {},
   "outputs": [],
   "source": []
  }
 ],
 "metadata": {
  "colab": {
   "provenance": []
  },
  "kernelspec": {
   "display_name": "Python 3 (ipykernel)",
   "language": "python",
   "name": "python3"
  },
  "language_info": {
   "codemirror_mode": {
    "name": "ipython",
    "version": 3
   },
   "file_extension": ".py",
   "mimetype": "text/x-python",
   "name": "python",
   "nbconvert_exporter": "python",
   "pygments_lexer": "ipython3",
   "version": "3.10.12"
  }
 },
 "nbformat": 4,
 "nbformat_minor": 4
}
