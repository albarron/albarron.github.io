{
  "cells": [
    {
      "cell_type": "markdown",
      "metadata": {
        "id": "uw5jACJmuLSQ"
      },
      "source": [
        "# DIT NLP lesson 2024\n",
        "\n",
        "## CNNs on text\n",
        "\n",
        "In order to run this notebook, I had to pay for Colab computing credits and activate an A100 runtime"
      ]
    },
    {
      "cell_type": "code",
      "source": [
        "# To check what is the amount of memory available\n",
        "\n",
        "from psutil import virtual_memory\n",
        "ram_gb = virtual_memory().total / 1e9\n",
        "print('Your runtime has {:.1f} gigabytes of available RAM\\n'.format(ram_gb))\n",
        "\n",
        "if ram_gb < 20:\n",
        "  print('Not using a high-RAM runtime')\n",
        "else:\n",
        "  print('You are using a high-RAM runtime!')"
      ],
      "metadata": {
        "id": "vCW9uqJ8ADMC"
      },
      "execution_count": null,
      "outputs": []
    },
    {
      "cell_type": "code",
      "execution_count": null,
      "metadata": {
        "id": "OaEklyOTuLSU"
      },
      "outputs": [],
      "source": [
        "import glob\n",
        "import numpy as np\n",
        "import os\n",
        "import os.path\n",
        "import tarfile\n",
        "\n",
        "from gensim.models.keyedvectors import KeyedVectors\n",
        "\n",
        "from keras.preprocessing import sequence   # necessary for padding\n",
        "from keras.models import Sequential        # Base Keras NN model\n",
        "from keras.layers import Conv1D, GlobalMaxPooling1D # Convolution layer and pooling\n",
        "from keras.layers import Dense, Dropout, Activation # The objects for each layer\n",
        "\n",
        "from nltk.tokenize import TreebankWordTokenizer\n",
        "from random import shuffle\n",
        "from urllib import request\n"
      ]
    },
    {
      "cell_type": "markdown",
      "metadata": {
        "id": "bejGp6_8uLST"
      },
      "source": [
        "For this exercise, we first download Stanford's [Large Movie Review Dataset](https://ai.stanford.edu/%7eamaas/data/sentiment/aclImdb_v1.tar.gz). More information on the corpus at [Learning Word Vectors for Sentiment Analysis](https://ai.stanford.edu/%7eamaas/papers/wvSent_acl2011.pdf)"
      ]
    },
    {
      "cell_type": "code",
      "execution_count": null,
      "metadata": {
        "id": "7tp25FdWuLSU"
      },
      "outputs": [],
      "source": [
        "PATH_TO_CORPUS = \"https://ai.stanford.edu/~amaas/data/sentiment/aclImdb_v1.tar.gz\"\n",
        "CORPUS_FILE_NAME = \"aclImdb_v1.tar.gz\"\n",
        "\n",
        "PATH_TO_GOOGLENEWS_VECTORS =\"https://www.dropbox.com/s/965dir4dje0hfi4/GoogleNews-vectors-negative300.bin.gz?dl=1\"\n",
        "GOOGLE_VECTORS = \"GoogleNews-vectors-negative300.bin.gz\"\n",
        "\n",
        "CORPUS_PATH = \"aclImdb/train\"\n",
        "\n",
        "def download_file(url_to_file, path_to_file):\n",
        "  if os.path.isfile(path_to_file):\n",
        "    print(\"A local copy of the file exists already:\", path_to_file, \"\\nDoing nothing\")\n",
        "  else:\n",
        "    request.urlretrieve(url_to_file, path_to_file)"
      ]
    },
    {
      "cell_type": "code",
      "source": [
        "# Downloading the embeddings\n",
        "\n",
        "download_file(PATH_TO_GOOGLENEWS_VECTORS, GOOGLE_VECTORS)"
      ],
      "metadata": {
        "id": "gmtdGr1mwt5u"
      },
      "execution_count": null,
      "outputs": []
    },
    {
      "cell_type": "code",
      "source": [
        "# Downloading and untaring the corpus\n",
        "\n",
        "download_file(PATH_TO_CORPUS, CORPUS_FILE_NAME)\n",
        "with tarfile.open(CORPUS_FILE_NAME) as f:\n",
        "  f.extractall(path=\".\")"
      ],
      "metadata": {
        "id": "dPsvTLPNwqso"
      },
      "execution_count": null,
      "outputs": []
    },
    {
      "cell_type": "code",
      "execution_count": null,
      "metadata": {
        "id": "DS9GTF46uLSV"
      },
      "outputs": [],
      "source": [
        "# A method to read and shuffle all instances (one per file).\n",
        "# Positive (negative) instances are in the pos (neg) folder\n",
        "\n",
        "def pre_process_data(filepath):\n",
        "    \"\"\"\n",
        "    This is dependent on your training data source but we will\n",
        "    try to generalize it as best as possible.\n",
        "    \"\"\"\n",
        "    positive_path = os.path.join(filepath, 'pos')\n",
        "    negative_path = os.path.join(filepath, 'neg')\n",
        "    pos_label = 1\n",
        "    neg_label = 0\n",
        "    dataset = []\n",
        "\n",
        "    # glob.glob returns a list of path names that match pathname\n",
        "    for filename in glob.glob(os.path.join(positive_path, '*.txt')):\n",
        "        with open(filename, 'r') as f:\n",
        "            dataset.append((pos_label, f.read()))\n",
        "\n",
        "    for filename in glob.glob(os.path.join(negative_path, '*.txt')):\n",
        "        with open(filename, 'r') as f:\n",
        "            dataset.append((neg_label, f.read()))\n",
        "    shuffle(dataset)\n",
        "    return dataset"
      ]
    },
    {
      "cell_type": "code",
      "execution_count": null,
      "metadata": {
        "id": "j933LPb3uLSV"
      },
      "outputs": [],
      "source": [
        "# Preprocessing the data\n",
        "dataset = pre_process_data(CORPUS_PATH)\n",
        "dataset[0]"
      ]
    },
    {
      "cell_type": "code",
      "execution_count": null,
      "metadata": {
        "id": "AHPh0YJ_uLSW"
      },
      "outputs": [],
      "source": [
        "# Loading the word2vec embeddings\n",
        "\n",
        "word_vectors = KeyedVectors.load_word2vec_format(GOOGLE_VECTORS,\n",
        "    binary=True, limit=400000)\n",
        "\n",
        "# If you want to try to run with less memory, an alternative is to reduce the\n",
        "# vocabulary\n",
        "# (e.g., to 200000 or to 100000)\n",
        "# word_vectors = KeyedVectors.load_word2vec_format(GOOGLE_VECTORS,\n",
        "#     binary=True, limit=400000)"
      ]
    },
    {
      "cell_type": "code",
      "execution_count": null,
      "metadata": {
        "id": "WCftM2k0uLSX"
      },
      "outputs": [],
      "source": [
        "# Method to tokenise and vectorise all the training data\n",
        "\n",
        "def tokenize_and_vectorize(dataset):\n",
        "    tokenizer = TreebankWordTokenizer()\n",
        "    vectorized_data = []\n",
        "#    expected = [] this line appears in the book, but it's not necessary here!\n",
        "    for sample in dataset:\n",
        "        tokens = tokenizer.tokenize(sample[1])\n",
        "        sample_vecs = []\n",
        "        for token in tokens:\n",
        "            try:\n",
        "                sample_vecs.append(word_vectors[token])\n",
        "            except KeyError:\n",
        "                pass # No matching token in the Google w2v vocab\n",
        "        vectorized_data.append(sample_vecs)\n",
        "\n",
        "    return vectorized_data"
      ]
    },
    {
      "cell_type": "code",
      "execution_count": null,
      "metadata": {
        "id": "YmNj4h6RuLSX"
      },
      "outputs": [],
      "source": [
        "# Method to get the target labels\n",
        "def collect_expected(dataset):\n",
        "    \"\"\" Peel off the target values from the dataset \"\"\"\n",
        "    expected = []\n",
        "    for sample in dataset:\n",
        "        expected.append(sample[0])\n",
        "    return expected"
      ]
    },
    {
      "cell_type": "code",
      "execution_count": null,
      "metadata": {
        "id": "s7ZdwNotuLSY"
      },
      "outputs": [],
      "source": [
        "# Vectorising the dataset and extracting the gold standard\n",
        "vectorized_data = tokenize_and_vectorize(dataset)\n",
        "expected = collect_expected(dataset)"
      ]
    },
    {
      "cell_type": "code",
      "execution_count": null,
      "metadata": {
        "id": "WEamyzAcuLSY"
      },
      "outputs": [],
      "source": [
        "# Creating training and validation partitions\n",
        "\n",
        "\n",
        "split_point = int(len(vectorized_data)*.8)\n",
        "\n",
        "# Original alternative\n",
        "x_train = vectorized_data[:split_point] # there's a typo in this line, if copying from the book\n",
        "y_train = expected[:split_point]\n",
        "x_test = vectorized_data[split_point:]\n",
        "y_test = expected[split_point:]\n",
        "\n",
        "# If you want to try to run with less memory, an alternative is to reduce the\n",
        "# amount of training/developemt data\n",
        "# split_point_tr = int(len(vectorized_data)*.5)\n",
        "# x_train = vectorized_data[:split_point_tr] # I am using less training data\n",
        "# y_train = expected[:split_point_tr]\n",
        "# x_test = vectorized_data[split_point:]\n",
        "# y_test = expected[split_point:]"
      ]
    },
    {
      "cell_type": "code",
      "source": [
        "# If you want to try to run with less memory, an alternative is to drop the\n",
        "# files (not so effective)\n",
        "\n",
        "# import shutil\n",
        "# vectorized_data = 0\n",
        "# shutil.rmtree(CORPUS_PATH)\n",
        "# os.remove(CORPUS_FILE_NAME)\n",
        "# os.remove(GOOGLE_VECTORS)\n"
      ],
      "metadata": {
        "id": "q1Z0B2h-0DcZ"
      },
      "execution_count": null,
      "outputs": []
    },
    {
      "cell_type": "code",
      "execution_count": null,
      "metadata": {
        "id": "d37C-neQuLSY"
      },
      "outputs": [],
      "source": [
        "# Network parameters\n",
        "\n",
        "maxlen = 400          # maximum length of the text (why?)\n",
        "batch_size = 32       # number of samples before backpropagating\n",
        "embedding_dims = 300  # Same as Google's\n",
        "filters = 250         # (!)\n",
        "kernel_size = 3       # remember: filter=kernel (we have a scalar this time)\n",
        "hidden_dims = 250     # number of neurons in the final layer\n",
        "epochs = 2            # number of training epochs\n",
        "\n",
        "# If you want to try to run with less memory, an alternative is to reduce\n",
        "# the maximum length of the input and the size of the network\n",
        "# maxlen = 100          # maximum length of the text (why?)\n",
        "# batch_size = 32       # number of samples before backpropagating\n",
        "# embedding_dims = 300  # Same as Google's\n",
        "# filters = 120         # (!)\n",
        "# kernel_size = 3       # remember: filter=kernel (we have a scalar this time)\n",
        "# hidden_dims = 150     # number of neurons in the final layer\n",
        "# epochs = 2            # number of training epochs"
      ]
    },
    {
      "cell_type": "markdown",
      "metadata": {
        "id": "yCAfR68luLSa"
      },
      "source": [
        "**Back to the slides** to see what is \"padding\" in text"
      ]
    },
    {
      "cell_type": "markdown",
      "metadata": {
        "id": "L2jG5_z2uLSa"
      },
      "source": [
        "## Padding"
      ]
    },
    {
      "cell_type": "code",
      "execution_count": null,
      "metadata": {
        "id": "Z48MMvLcuLSa"
      },
      "outputs": [],
      "source": [
        "# Method to pad or truncate the input\n",
        "# (notice that this code is quite verbose)\n",
        "def pad_trunc(data, maxlen):\n",
        "    \"\"\"\n",
        "    For a given dataset pad with zero vectors or truncate to maxlen\n",
        "    \"\"\"\n",
        "    new_data = []\n",
        "    # Create a vector of 0s the length of our word vectors\n",
        "    zero_vector = []\n",
        "    for _ in range(len(data[0][0])):\n",
        "        zero_vector.append(0.0)\n",
        "\n",
        "    for sample in data:\n",
        "        if len(sample) > maxlen:\n",
        "            temp = sample[:maxlen]\n",
        "        elif len(sample) < maxlen:\n",
        "            temp = sample\n",
        "            # Append the appropriate number 0 vectors to the list\n",
        "            additional_elems = maxlen - len(sample)\n",
        "            for _ in range(additional_elems):\n",
        "                temp.append(zero_vector)\n",
        "        else:\n",
        "            temp = sample\n",
        "        new_data.append(temp)\n",
        "\n",
        "    return new_data"
      ]
    },
    {
      "cell_type": "code",
      "execution_count": null,
      "metadata": {
        "id": "TtfKT5fcuLSa"
      },
      "outputs": [],
      "source": [
        "# Padding/truncating the data (if necessary)\n",
        "\n",
        "x_train = pad_trunc(x_train, maxlen)\n",
        "x_test = pad_trunc(x_test, maxlen)\n",
        "\n",
        "# The shape is [number of samples, sequence length, word vector]\n",
        "x_train = np.reshape(x_train, (len(x_train), maxlen, embedding_dims))\n",
        "y_train = np.array(y_train)\n",
        "x_test = np.reshape(x_test, (len(x_test), maxlen, embedding_dims))\n",
        "y_test = np.array(y_test)"
      ]
    },
    {
      "cell_type": "markdown",
      "metadata": {
        "id": "GUdU26LIuLSa"
      },
      "source": [
        "## Building the network\n",
        "\n",
        "Adding the convolutional layer"
      ]
    },
    {
      "cell_type": "code",
      "execution_count": null,
      "metadata": {
        "id": "9FwkDLbEuLSa"
      },
      "outputs": [],
      "source": [
        "print('Building model...')\n",
        "model = Sequential()   # The standard NN model\n",
        "model.add(Conv1D(      # Adding a convolutional layer\n",
        "    filters,\n",
        "    kernel_size,\n",
        "    padding='valid',   # in this example the output is going to be slightly smaller\n",
        "    activation='relu',\n",
        "    strides=1,         # the shift\n",
        "    input_shape=(maxlen, embedding_dims))\n",
        "    )\n",
        "# Formulation: max (0, dot(filter, 3-gram))"
      ]
    },
    {
      "cell_type": "code",
      "execution_count": null,
      "metadata": {
        "id": "AWCmkuuZuLSa"
      },
      "outputs": [],
      "source": [
        "# Adding the max pooling\n",
        "# Alternatives\n",
        "# - GlobalMaxPooling1D() (the max for the entire filter's output)\n",
        "# - MaxPooling1D(n)  (the max for a specific area of n; default n=2)\n",
        "# - AvgPooling1D(n)\n",
        "\n",
        "model.add(GlobalMaxPooling1D())"
      ]
    },
    {
      "cell_type": "markdown",
      "metadata": {
        "id": "iDQdsfsZuLSa"
      },
      "source": [
        "**back to the slides to see what is pooling (and drop out)**"
      ]
    },
    {
      "cell_type": "code",
      "execution_count": null,
      "metadata": {
        "id": "tGb5P7BluLSa"
      },
      "outputs": [],
      "source": [
        "# Adding dropout (20% of the data will be \"cancelled\")\n",
        "model.add(Dense(hidden_dims))\n",
        "model.add(Dropout(0.2))\n",
        "model.add(Activation('relu'))"
      ]
    },
    {
      "cell_type": "code",
      "execution_count": null,
      "metadata": {
        "id": "MIeYhPXuuLSb"
      },
      "outputs": [],
      "source": [
        "# Adding the classification layer\n",
        "# sigmoid range: [0,1]\n",
        "model.add(Dense(1))\n",
        "model.add(Activation('sigmoid'))"
      ]
    },
    {
      "cell_type": "markdown",
      "metadata": {
        "id": "988ejk35uLSb"
      },
      "source": [
        "**back to the slides**"
      ]
    },
    {
      "cell_type": "code",
      "execution_count": null,
      "metadata": {
        "id": "gWwi37nnuLSb"
      },
      "outputs": [],
      "source": [
        "# Compiling the CNN\n",
        "model.compile(loss='binary_crossentropy',\n",
        "        optimizer='adam',\n",
        "        metrics=['accuracy']\n",
        "        )"
      ]
    },
    {
      "cell_type": "code",
      "execution_count": null,
      "metadata": {
        "id": "za2KQuoyuLSb"
      },
      "outputs": [],
      "source": [
        "# Fitting (training) the model\n",
        "model.fit(x_train, y_train,\n",
        "    batch_size=batch_size,\n",
        "    epochs=epochs,\n",
        "    validation_data=(x_test, y_test)\n",
        "    )"
      ]
    },
    {
      "cell_type": "markdown",
      "source": [
        "This is how much memory one could need:\n",
        "\n",
        "![15_dit_nlp_cnn.ipynb_memory_Colab.png](data:image/png;base64,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)"
      ],
      "metadata": {
        "id": "TN2q-R6oCKY0"
      }
    },
    {
      "cell_type": "code",
      "execution_count": null,
      "metadata": {
        "id": "GTyXu8veuLSc"
      },
      "outputs": [],
      "source": [
        "# Saving the model\n",
        "model_structure = model.to_json()\n",
        "with open(\"cnn_model.json\", \"w\") as json_file:\n",
        "    json_file.write(model_structure)  # saves just the architecture\n",
        "model.save_weights(\"cnn.weights.h5\")  # saves the weights\n",
        "# You can run fit many times on the same model (it will continue)"
      ]
    },
    {
      "cell_type": "markdown",
      "source": [],
      "metadata": {
        "id": "Dxc9WIRZB1Dr"
      }
    },
    {
      "cell_type": "code",
      "execution_count": null,
      "metadata": {
        "id": "0zhZfNxOuLSc"
      },
      "outputs": [],
      "source": [
        "# (Re)loading the model (not necessary here, but anyway)\n",
        "from keras.models import model_from_json\n",
        "with open(\"cnn_model.json\", \"r\") as json_file:\n",
        "    json_string = json_file.read()\n",
        "model = model_from_json(json_string)\n",
        "model.load_weights('cnn.weights.h5')"
      ]
    },
    {
      "cell_type": "code",
      "execution_count": null,
      "metadata": {
        "id": "6e6ggldtuLSc"
      },
      "outputs": [],
      "source": [
        "# Predicting a new instance\n",
        "\n",
        "# Notice we have both positive and negative words here\n",
        "sample_1 = \"\"\"I hate that the dismal weather had me down for so long,\n",
        "when will it break! Ugh, when does happiness return? The sun is\n",
        "blinding and the puffy clouds are too thin. I can't wait for the weekend.\"\"\"\n",
        "\n",
        "# The first value is a \"fake\" class (this is the expected input)\n",
        "vec_list = tokenize_and_vectorize([(1, sample_1)])\n",
        "test_vec_list = pad_trunc(vec_list, maxlen)\n",
        "test_vec = np.reshape(test_vec_list, (len(test_vec_list), maxlen,\\\n",
        "        embedding_dims))\n",
        "model.predict(test_vec)"
      ]
    },
    {
      "cell_type": "code",
      "execution_count": null,
      "metadata": {
        "id": "GSCE6q5GuLSd"
      },
      "outputs": [],
      "source": [
        "# Get the class\n",
        "(model.predict(test_vec) > 0.5).astype(\"int32\")"
      ]
    },
    {
      "cell_type": "markdown",
      "metadata": {
        "id": "PnSmL3eNuLSd"
      },
      "source": [
        "**End of the notebook**"
      ]
    }
  ],
  "metadata": {
    "kernelspec": {
      "display_name": "Python 3",
      "name": "python3"
    },
    "language_info": {
      "codemirror_mode": {
        "name": "ipython",
        "version": 3
      },
      "file_extension": ".py",
      "mimetype": "text/x-python",
      "name": "python",
      "nbconvert_exporter": "python",
      "pygments_lexer": "ipython3",
      "version": "3.8.18"
    },
    "colab": {
      "provenance": [],
      "gpuType": "A100"
    },
    "accelerator": "GPU"
  },
  "nbformat": 4,
  "nbformat_minor": 0
}