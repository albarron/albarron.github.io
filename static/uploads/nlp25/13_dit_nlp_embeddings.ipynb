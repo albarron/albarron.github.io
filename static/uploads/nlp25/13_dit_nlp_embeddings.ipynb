{
 "cells": [
  {
   "cell_type": "markdown",
   "metadata": {
    "id": "O1-K_Rk-Q0R5"
   },
   "source": [
    "# DIT Natural Langiuage Processing 2025\n",
    "\n",
    "### Neural networks\n",
    "\n",
    "\n",
    "## Hands on word embeddings"
   ]
  },
  {
   "cell_type": "markdown",
   "metadata": {
    "id": "1C9YsqbvQ0R7"
   },
   "source": [
    "Pre-trained embeddings are available from many companies and organisations. Adopting them them could save both time and resources.\n",
    "\n",
    "Have a look at...\n",
    "- [Gensim's documentation](https://radimrehurek.com/gensim/models/word2vec.html)\n",
    "- [Google's word2vec project](https://code.google.com/archive/p/word2vec/)\n",
    "\n",
    "There are may pre-trained word2vec models available. Consider...\n",
    "- [Gensim's](https://github.com/RaRe-Technologies/gensim-data)\n",
    "- [University of Oslo's](http://vectors.nlpl.eu/repository/)"
   ]
  },
  {
   "cell_type": "markdown",
   "metadata": {
    "id": "LGvBBm8yQ0R8"
   },
   "source": [
    "The coming 2 cells represent alternaties to perform the same thing (almost)\n",
    "\n",
    "1. Downloading the Google w2v embeddigns using the book library\n",
    "2. Using w2v embeddings you have downloaded in advance"
   ]
  },
  {
   "cell_type": "code",
   "execution_count": null,
   "metadata": {
    "id": "lf7duIEBDKEF"
   },
   "outputs": [],
   "source": [
    "import os.path\n",
    "\n",
    "from gensim.models.keyedvectors import KeyedVectors\n",
    "from urllib import request"
   ]
  },
  {
   "cell_type": "code",
   "execution_count": null,
   "metadata": {
    "id": "gqvlm_M5Q0R9",
    "scrolled": true
   },
   "outputs": [],
   "source": [
    "# Downloading a word2vec pre-trained model \n",
    "# (run it only once; it takes long)\n",
    "\n",
    "# This is the nlpia way. It does not work\n",
    "# from nlpia.data.loaders import get_data\n",
    "# import pandas as pd\n",
    "# word_vectors = get_data('word2vec')\n",
    "\n",
    "\n",
    "PATH_TO_GOOGLENEWS_VECTORS =\"https://www.dropbox.com/s/965dir4dje0hfi4/GoogleNews-vectors-negative300.bin.gz?dl=1\"\n",
    "OUTPUT_FILE_NAME = \"GoogleNews-vectors-negative300.bin.gz\"\n",
    "\n",
    "# Download only if not yet (the model is big!)\n",
    "\n",
    "if not os.path.isfile(PATH_TO_GOOGLENEWS_VECTORS):\n",
    "  request.urlretrieve(PATH_TO_GOOGLENEWS_VECTORS, OUTPUT_FILE_NAME)"
   ]
  },
  {
   "cell_type": "code",
   "execution_count": null,
   "metadata": {
    "id": "4ygXL6CVQ0R-"
   },
   "outputs": [],
   "source": [
    "from gensim.models.keyedvectors import KeyedVectors\n",
    "\n",
    "# GOOGLE_VECTORS = \"/some/reasonable/path/GoogleNews-vectors-negative300.bin.gz\"\n",
    "GOOGLE_VECTORS  = OUTPUT_FILE_NAME\n",
    "KeyedVectors.load_word2vec_format(GOOGLE_VECTORS, binary=True)\n",
    "word_vectors = KeyedVectors.load_word2vec_format(GOOGLE_VECTORS,\n",
    "     binary=True, limit=200000)\n",
    "\n",
    "# 200000 limits the number of loaded vectors to 200k only\n",
    "# The aim is speeding up and saving some memory \n",
    "# (handy if not many resources are available)"
   ]
  },
  {
   "cell_type": "markdown",
   "metadata": {
    "id": "xysltJRrQ0R_"
   },
   "source": [
    "**Back to the slides**"
   ]
  },
  {
   "cell_type": "markdown",
   "metadata": {
    "id": "VKB0bKVEQ0SA"
   },
   "source": [
    "## Retrieving the most similar vectors"
   ]
  },
  {
   "cell_type": "code",
   "execution_count": null,
   "metadata": {
    "id": "ExBdvIfUQ0SB"
   },
   "outputs": [],
   "source": [
    "word_vectors.most_similar(positive=['cooking', 'potatoes'], topn=5)"
   ]
  },
  {
   "cell_type": "code",
   "execution_count": null,
   "metadata": {
    "id": "EIO06EvNQ0SB"
   },
   "outputs": [],
   "source": [
    "word_vectors.most_similar(positive=['cooking'], topn=5)"
   ]
  },
  {
   "cell_type": "code",
   "execution_count": null,
   "metadata": {
    "id": "qHrQ5IdQQ0SD"
   },
   "outputs": [],
   "source": [
    "word_vectors.most_similar(positive=['bush', 'clinton'], topn=1) # not there with 200k"
   ]
  },
  {
   "cell_type": "code",
   "execution_count": null,
   "metadata": {
    "id": "edGIuqMzQ0SE"
   },
   "outputs": [],
   "source": [
    "word_vectors.most_similar(positive=['Bush', 'Clinton'], topn=1)"
   ]
  },
  {
   "cell_type": "code",
   "execution_count": null,
   "metadata": {
    "id": "9az9iSfjQ0SF"
   },
   "outputs": [],
   "source": [
    "word_vectors.most_similar(positive=['Bush', 'president'], topn=1)"
   ]
  },
  {
   "cell_type": "code",
   "execution_count": null,
   "metadata": {
    "id": "Cb39OqsmQ0SF"
   },
   "outputs": [],
   "source": [
    "word_vectors.most_similar(positive=['Biden', 'president'], topn=1)"
   ]
  },
  {
   "cell_type": "code",
   "execution_count": null,
   "metadata": {
    "id": "trKnLw1J1HxO"
   },
   "outputs": [],
   "source": [
    "word_vectors.most_similar(positive=['Meloni', 'president'], topn=1)"
   ]
  },
  {
   "cell_type": "code",
   "execution_count": null,
   "metadata": {
    "id": "HqmHc-g8Q0SG"
   },
   "outputs": [],
   "source": [
    "word_vectors.most_similar(positive=['bologna', 'pasta'], topn=3)"
   ]
  },
  {
   "cell_type": "code",
   "execution_count": null,
   "metadata": {
    "id": "RJmNZTCiQ0SG"
   },
   "outputs": [],
   "source": [
    "word_vectors.most_similar(positive=['Bologna', 'pasta'], topn=3)"
   ]
  },
  {
   "cell_type": "code",
   "execution_count": null,
   "metadata": {
    "id": "rkZz46avQ0SG"
   },
   "outputs": [],
   "source": [
    "word_vectors.most_similar(positive=['Kentucky', 'chicken'], topn=3)"
   ]
  },
  {
   "cell_type": "markdown",
   "metadata": {
    "id": "JDmfEk81neao"
   },
   "source": [
    "Why Tennessee? Headquarters: https://en.wikipedia.org/wiki/History_of_KFC\n",
    "\n",
    "(Sanders: \"This ain't no goddam Tennessee Fried Chicken, no matter what some slick, silk-suited son-of-a-bitch says\")\n",
    "\n",
    "Why West Virginia? Maybe [location](https://maps.app.goo.gl/E2nxYSqL15UmL1zo7)"
   ]
  },
  {
   "cell_type": "code",
   "execution_count": null,
   "metadata": {
    "id": "TwV6zmS2Q0SH"
   },
   "outputs": [],
   "source": [
    "word_vectors.most_similar(positive=['Atlanta', 'baseball'], topn=3)"
   ]
  },
  {
   "cell_type": "code",
   "execution_count": null,
   "metadata": {
    "id": "NCw2hibHQ0SH"
   },
   "outputs": [],
   "source": [
    "# Something else?\n",
    "word_vectors.most_similar(positive=[None, None] , topn=3)"
   ]
  },
  {
   "cell_type": "markdown",
   "metadata": {
    "id": "m30mYw9RQ0SH"
   },
   "source": [
    "## Retrieving the most similar vectors, after subtraction"
   ]
  },
  {
   "cell_type": "code",
   "execution_count": null,
   "metadata": {
    "id": "xjR0290uQ0SI"
   },
   "outputs": [],
   "source": [
    "# Let us load a bigger model (if you went for the second alternative)\n",
    "# binary: If True, indicates whether the data is in binary word2vec format.\n",
    "word_vectors = KeyedVectors.load_word2vec_format(GOOGLE_VECTORS,\n",
    "    binary=True, limit=400000)"
   ]
  },
  {
   "cell_type": "code",
   "execution_count": null,
   "metadata": {
    "id": "6-KCHdA5Q0SI"
   },
   "outputs": [],
   "source": [
    "word_vectors.most_similar(positive=['New_York', 'Italy'], negative=['America'], topn=3)"
   ]
  },
  {
   "cell_type": "code",
   "execution_count": null,
   "metadata": {
    "id": "ClkLkPVXpXUS"
   },
   "outputs": [],
   "source": [
    "word_vectors.most_similar(positive=['Chicago', 'Italy'], negative=['America'], topn=3)"
   ]
  },
  {
   "cell_type": "code",
   "execution_count": null,
   "metadata": {
    "id": "lZH0XEdRpkR3"
   },
   "outputs": [],
   "source": [
    "word_vectors.most_similar(positive=['Washington', 'Italy'], negative=['America'], topn=3)"
   ]
  },
  {
   "cell_type": "code",
   "execution_count": null,
   "metadata": {
    "id": "3W4VtxDFQ0SJ"
   },
   "outputs": [],
   "source": [
    "# Not Germany with 200k\n",
    "word_vectors.most_similar(positive=['Germany', 'France'], negative=['Europe'], topn=3)"
   ]
  },
  {
   "cell_type": "code",
   "execution_count": null,
   "metadata": {
    "id": "TQNMpOEXQ0SJ"
   },
   "outputs": [],
   "source": [
    "word_vectors.most_similar(positive=['Spain', 'America'], negative=['Europe'], topn=3)"
   ]
  },
  {
   "cell_type": "code",
   "execution_count": null,
   "metadata": {
    "id": "jK12h2z9Q0SJ"
   },
   "outputs": [],
   "source": [
    "word_vectors.most_similar(positive=['Spain', 'America'], negative=['Europe', 'language'], topn=3)"
   ]
  },
  {
   "cell_type": "markdown",
   "metadata": {
    "id": "6Q8yDMvLQ0SK"
   },
   "source": [
    "**Back the slides**"
   ]
  },
  {
   "cell_type": "markdown",
   "metadata": {
    "id": "xvbm-CuoQ0SK"
   },
   "source": [
    "## Finding the \"outlier\" (or indeed the least similar word)"
   ]
  },
  {
   "cell_type": "code",
   "execution_count": null,
   "metadata": {
    "id": "VZdbhJNwQ0SK"
   },
   "outputs": [],
   "source": [
    "word_vectors.doesnt_match(\"potatoes milk cake computer\".split())"
   ]
  },
  {
   "cell_type": "code",
   "execution_count": null,
   "metadata": {
    "id": "phXrxASXQ0SK"
   },
   "outputs": [],
   "source": [
    "word_vectors.doesnt_match(\"Spanish Italian French\".split())"
   ]
  },
  {
   "cell_type": "code",
   "execution_count": null,
   "metadata": {
    "id": "znVXSEJAQ0SL"
   },
   "outputs": [],
   "source": [
    "word_vectors.doesnt_match(\"beer wine spritz water\".split())"
   ]
  },
  {
   "cell_type": "code",
   "execution_count": null,
   "metadata": {
    "id": "pfE2bzJeQ0SL"
   },
   "outputs": [],
   "source": [
    "word_vectors.doesnt_match(\"linguistics semantics pragmatics speech\".split())"
   ]
  },
  {
   "cell_type": "code",
   "execution_count": null,
   "metadata": {
    "id": "Iks_oMhpQ0SL"
   },
   "outputs": [],
   "source": [
    "word_vectors.doesnt_match(\"dog cat snake fish\".split())"
   ]
  },
  {
   "cell_type": "code",
   "execution_count": null,
   "metadata": {
    "id": "QWeXnDWLQ0SL"
   },
   "outputs": [],
   "source": [
    "word_vectors.doesnt_match(\"cow sheep goat camel\".split())"
   ]
  },
  {
   "cell_type": "code",
   "execution_count": null,
   "metadata": {
    "id": "nr7sKpv2Q0SM"
   },
   "outputs": [],
   "source": [
    "# US sport\n",
    "word_vectors.doesnt_match(\"Bears Eagles Giants Titans Braves\".split())"
   ]
  },
  {
   "cell_type": "code",
   "execution_count": null,
   "metadata": {
    "id": "ymyHSh4hq4NC"
   },
   "outputs": [],
   "source": [
    "# Italian sport\n",
    "word_vectors.doesnt_match(\"Atalanta Fiorentina Juventus Inter Udinese\".split())"
   ]
  },
  {
   "cell_type": "code",
   "execution_count": null,
   "metadata": {
    "id": "MikmtalfraQa"
   },
   "outputs": [],
   "source": [
    "# Italian sport\n",
    "word_vectors.doesnt_match(\"Atalanta Fiorentina Juventus Inter Udinese Ajax\".split())"
   ]
  },
  {
   "cell_type": "code",
   "execution_count": null,
   "metadata": {
    "id": "Wvfni7m1Q0SM"
   },
   "outputs": [],
   "source": [
    "word_vectors.doesnt_match(\"fries pizza taco sushi\".split())"
   ]
  },
  {
   "cell_type": "markdown",
   "metadata": {
    "id": "aIYWjTtJQ0SM"
   },
   "source": [
    "**Back to the slides**"
   ]
  },
  {
   "cell_type": "markdown",
   "metadata": {
    "id": "mG4XX5dGQ0SM"
   },
   "source": [
    "## Adding and subtracting"
   ]
  },
  {
   "cell_type": "code",
   "execution_count": null,
   "metadata": {
    "id": "JhZqOfuoQ0SM"
   },
   "outputs": [],
   "source": [
    "word_vectors.most_similar(positive=['king', 'woman'], negative=['man'], topn=3)"
   ]
  },
  {
   "cell_type": "code",
   "execution_count": null,
   "metadata": {
    "id": "1Q4bEQ5SQ0SM"
   },
   "outputs": [],
   "source": [
    "word_vectors.most_similar(positive=['pizza', 'mozzarella'], negative=['pineapple'], topn=3)"
   ]
  },
  {
   "cell_type": "code",
   "execution_count": null,
   "metadata": {
    "id": "kkQy73AGQ0SN"
   },
   "outputs": [],
   "source": [
    "word_vectors.most_similar(positive=['Italy', 'mafia'], negative=['New_York'], topn=3) # italy not present"
   ]
  },
  {
   "cell_type": "code",
   "execution_count": null,
   "metadata": {
    "id": "4MaVkXbmQ0SN",
    "scrolled": true
   },
   "outputs": [],
   "source": [
    "word_vectors.most_similar(positive=['black'], topn=10)"
   ]
  },
  {
   "cell_type": "code",
   "execution_count": null,
   "metadata": {
    "id": "VE8jT1dMQ0SN"
   },
   "outputs": [],
   "source": [
    "# Some other interesting example?\n",
    "word_vectors.most_similar(positive=None, negative=None, topn=2)"
   ]
  },
  {
   "cell_type": "markdown",
   "metadata": {
    "id": "MuFlHU52Q0SN"
   },
   "source": [
    "**back to the slides**"
   ]
  },
  {
   "cell_type": "markdown",
   "metadata": {
    "id": "VV23N6BlQ0SO"
   },
   "source": [
    "## Similarity between two words"
   ]
  },
  {
   "cell_type": "code",
   "execution_count": null,
   "metadata": {
    "id": "nc9ivp0CQ0SO"
   },
   "outputs": [],
   "source": [
    "word_vectors.similarity('princess', 'queen')"
   ]
  },
  {
   "cell_type": "code",
   "execution_count": null,
   "metadata": {
    "id": "sHRXr6VbsLBK"
   },
   "outputs": [],
   "source": [
    "word_vectors.similarity('prince', 'king')"
   ]
  },
  {
   "cell_type": "code",
   "execution_count": null,
   "metadata": {
    "id": "bEOvLAcJQ0SO"
   },
   "outputs": [],
   "source": [
    "word_vectors.similarity('prince', 'frog')"
   ]
  },
  {
   "cell_type": "code",
   "execution_count": null,
   "metadata": {
    "id": "edkzvtOEQ0SO"
   },
   "outputs": [],
   "source": [
    "word_vectors.similarity('god', 'monster')"
   ]
  },
  {
   "cell_type": "code",
   "execution_count": null,
   "metadata": {
    "id": "8i4A7YLYQ0SP"
   },
   "outputs": [],
   "source": [
    "word_vectors.similarity('gaze', 'watch')"
   ]
  },
  {
   "cell_type": "code",
   "execution_count": null,
   "metadata": {
    "id": "rHBvtpVTQ0SP"
   },
   "outputs": [],
   "source": [
    "word_vectors.similarity('frog', 'toad')"
   ]
  },
  {
   "cell_type": "code",
   "execution_count": null,
   "metadata": {
    "id": "1UxKoHtfQ0SP"
   },
   "outputs": [],
   "source": [
    "word_vectors.similarity('headache', 'flu')"
   ]
  },
  {
   "cell_type": "code",
   "execution_count": null,
   "metadata": {
    "id": "wlhngKx0Q0SQ"
   },
   "outputs": [],
   "source": [
    "word_vectors.similarity('Aztec', 'Mayan')"
   ]
  },
  {
   "cell_type": "code",
   "execution_count": null,
   "metadata": {
    "id": "9w3swl0mQ0SQ"
   },
   "outputs": [],
   "source": [
    "word_vectors.similarity('Rome', 'Athens')"
   ]
  },
  {
   "cell_type": "code",
   "execution_count": null,
   "metadata": {
    "id": "NNOaOKcIQ0SQ"
   },
   "outputs": [],
   "source": [
    "word_vectors.similarity('automobile', 'car')"
   ]
  },
  {
   "cell_type": "code",
   "execution_count": null,
   "metadata": {
    "id": "rjv8tzF5Q0SR"
   },
   "outputs": [],
   "source": [
    "word_vectors.similarity('rail', 'train')"
   ]
  },
  {
   "cell_type": "code",
   "execution_count": null,
   "metadata": {
    "id": "pCiP_tQ5Q0SR"
   },
   "outputs": [],
   "source": [
    "word_vectors.similarity('ragu', 'pesto')"
   ]
  },
  {
   "cell_type": "code",
   "execution_count": null,
   "metadata": {
    "id": "iy1M4jcxQ0SR",
    "scrolled": true
   },
   "outputs": [],
   "source": [
    "word_vectors.similarity('Toscana', 'Lombardia') # just the translation"
   ]
  },
  {
   "cell_type": "code",
   "execution_count": null,
   "metadata": {
    "id": "t6RtPYUhQ0SR"
   },
   "outputs": [],
   "source": [
    "word_vectors.similarity('Toscana', 'Lazio')"
   ]
  },
  {
   "cell_type": "code",
   "execution_count": null,
   "metadata": {
    "id": "4VN3lYg_Q0SS"
   },
   "outputs": [],
   "source": [
    "word_vectors.similarity('pizza', 'taco')"
   ]
  },
  {
   "cell_type": "code",
   "execution_count": null,
   "metadata": {
    "id": "BDRCp1mJQ0SS"
   },
   "outputs": [],
   "source": [
    "word_vectors.similarity('piadina', 'taco')"
   ]
  },
  {
   "cell_type": "code",
   "execution_count": null,
   "metadata": {
    "id": "gbxmBqubQ0SS"
   },
   "outputs": [],
   "source": [
    "# Some other interesting example?\n",
    "word_vectors.similarity(None, None)"
   ]
  },
  {
   "cell_type": "markdown",
   "metadata": {
    "id": "1mpb6BOzQ0SS"
   },
   "source": [
    "**back to the slides**"
   ]
  },
  {
   "cell_type": "markdown",
   "metadata": {
    "id": "NqzcWjltQ0ST"
   },
   "source": [
    "## Accessing the actual vectors"
   ]
  },
  {
   "cell_type": "code",
   "execution_count": null,
   "metadata": {
    "id": "kkYei3UvQ0ST"
   },
   "outputs": [],
   "source": [
    "word_vectors['phone']"
   ]
  },
  {
   "cell_type": "code",
   "execution_count": null,
   "metadata": {
    "id": "Jr4rDqufs6Bb"
   },
   "outputs": [],
   "source": [
    "len(word_vectors['phone'])"
   ]
  },
  {
   "cell_type": "markdown",
   "metadata": {
    "id": "1yZXnfK_Q0ST"
   },
   "source": [
    "**back to the slides**"
   ]
  },
  {
   "cell_type": "markdown",
   "metadata": {
    "id": "4oVpOTWWQ0ST"
   },
   "source": [
    "# Training a word2vec model"
   ]
  },
  {
   "cell_type": "code",
   "execution_count": null,
   "metadata": {
    "id": "OUkhFAxUQ0ST"
   },
   "outputs": [],
   "source": [
    "# Setup\n",
    "from gensim.models.word2vec import Word2Vec\n",
    "import nltk\n",
    "from nltk.corpus import brown\n",
    "\n",
    "num_features = 300   # The  cardinality of the embedding space\n",
    "min_word_count = 3   # Words appearing less times will be discarded (depends on the size of the corpus)\n",
    "num_workers = 2      # Number of CPU cores to be used (depends on hardware)\n",
    "window_size = 6      # Size of the context\n",
    "subsampling = 1e-3   # Threshold for configuring which higher-frequency words are randomly downsampled"
   ]
  },
  {
   "cell_type": "code",
   "execution_count": null,
   "metadata": {
    "id": "SvTv3g7TQ0SU"
   },
   "outputs": [],
   "source": [
    "# Loading some data\n",
    "nltk.download('brown')\n",
    "sentence_list = brown.sents()\n",
    "len(sentence_list)"
   ]
  },
  {
   "cell_type": "code",
   "execution_count": null,
   "metadata": {
    "id": "D8ShgxPSQ0SU"
   },
   "outputs": [],
   "source": [
    "sentence_list"
   ]
  },
  {
   "cell_type": "code",
   "execution_count": null,
   "metadata": {
    "id": "DFJkLYHsQ0SU"
   },
   "outputs": [],
   "source": [
    "# Model initialisation\n",
    "# I RAN THIS EARLIER. I wont do it now, as it takes some time\n",
    "model = Word2Vec(\n",
    "    sentence_list,\n",
    "    workers=num_workers,\n",
    "    vector_size=num_features,   # Notice that this parameter used to be size\n",
    "    #min_count=min_word_count,\n",
    "    window=window_size,\n",
    "    sample=subsampling)"
   ]
  },
  {
   "cell_type": "code",
   "execution_count": null,
   "metadata": {
    "id": "S65RKsmqQ0SV"
   },
   "outputs": [],
   "source": [
    "# Discarding the unneeded output weights and freezing the rest\n",
    "# This is not necessary since gensim 4: https://github.com/RaRe-Technologies/gensim/wiki/Migrating-from-Gensim-3.x-to-4\n",
    "# model.init_sims(replace=True)"
   ]
  },
  {
   "cell_type": "code",
   "execution_count": null,
   "metadata": {
    "id": "7fSID-uLQ0SV"
   },
   "outputs": [],
   "source": [
    "# Saving the model\n",
    "model_name = \"my_domain_specific_word2vec_model\"\n",
    "model.save(model_name)"
   ]
  },
  {
   "cell_type": "code",
   "execution_count": null,
   "metadata": {
    "id": "eCi-CMcoQ0SV"
   },
   "outputs": [],
   "source": [
    "# Loading a model\n",
    "\n",
    "model = Word2Vec.load(model_name)\n",
    "model.wv.most_similar('brown')\n",
    "# Notice that model.most_similar('brown') might be deprecated soon"
   ]
  },
  {
   "cell_type": "markdown",
   "metadata": {
    "id": "HAXYV2AbQ0SV"
   },
   "source": [
    "**back to the slides**"
   ]
  },
  {
   "cell_type": "markdown",
   "metadata": {
    "id": "CNY00XJaQ0SW"
   },
   "source": [
    "\n",
    "## fastText"
   ]
  },
  {
   "cell_type": "code",
   "execution_count": null,
   "metadata": {
    "id": "v_InJRMqJLF_"
   },
   "outputs": [],
   "source": [
    "# Downloading the model\n",
    "URL_TO_FASTTEXT = \"https://dl.fbaipublicfiles.com/fasttext/vectors-wiki/wiki.en.vec\"\n",
    "filename_fasttext = \"wiki.en.vec\"\n",
    "\n",
    "# Download the file only if it does not exist\n",
    "if not os.path.isfile(filename_fasttext):\n",
    "  request.urlretrieve(URL_TO_FASTTEXT, filename_fasttext)"
   ]
  },
  {
   "cell_type": "code",
   "execution_count": null,
   "metadata": {
    "id": "sj-KU8RdY6JI"
   },
   "outputs": [],
   "source": [
    "# from gensim.models import Word2Vec\n",
    "print(filename_fasttext)\n",
    "# binary: If True, indicates whether the data is in binary word2vec format.\n",
    "ft_model = KeyedVectors.load_word2vec_format(filename_fasttext, binary=False)\n",
    "# ft_model = Word2Vec.load(filename_fasttext)"
   ]
  },
  {
   "cell_type": "code",
   "execution_count": null,
   "metadata": {
    "colab": {
     "base_uri": "https://localhost:8080/"
    },
    "id": "4oT0JCJyQ0SW",
    "outputId": "ce32086b-1a23-4ef9-943a-0af5918508a2"
   },
   "outputs": [],
   "source": [
    "ft_model.most_similar('calcio')"
   ]
  },
  {
   "cell_type": "code",
   "execution_count": null,
   "metadata": {
    "colab": {
     "base_uri": "https://localhost:8080/"
    },
    "id": "DMTafuGAQ0SW",
    "outputId": "b9e5e29b-95fb-46f5-d821-4d251fd34c2c"
   },
   "outputs": [],
   "source": [
    "ft_model.most_similar('football')"
   ]
  },
  {
   "cell_type": "markdown",
   "metadata": {
    "id": "Mlg8Ess1MfKV"
   },
   "source": [
    "**End of the notebook**"
   ]
  },
  {
   "cell_type": "code",
   "execution_count": null,
   "metadata": {
    "id": "j7Fc_ecMMk4o"
   },
   "outputs": [],
   "source": []
  }
 ],
 "metadata": {
  "colab": {
   "provenance": []
  },
  "kernelspec": {
   "display_name": "Python 3 (ipykernel)",
   "language": "python",
   "name": "python3"
  },
  "language_info": {
   "codemirror_mode": {
    "name": "ipython",
    "version": 3
   },
   "file_extension": ".py",
   "mimetype": "text/x-python",
   "name": "python",
   "nbconvert_exporter": "python",
   "pygments_lexer": "ipython3",
   "version": "3.10.19"
  }
 },
 "nbformat": 4,
 "nbformat_minor": 4
}
