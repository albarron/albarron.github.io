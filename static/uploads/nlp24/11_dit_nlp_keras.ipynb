{
  "cells": [
    {
      "cell_type": "markdown",
      "metadata": {
        "id": "zWGcrooIk4-e"
      },
      "source": [
        "# DIT NLP lesson 2024\n",
        "\n",
        "## Neural networks\n",
        "\n",
        "We are using Keras."
      ]
    },
    {
      "cell_type": "code",
      "execution_count": null,
      "metadata": {
        "id": "7u0XOW5Xk4-f"
      },
      "outputs": [],
      "source": [
        "# Do not forget to install keras the first time\n",
        "# (this is already installed on colab)\n",
        "# ! pip3 install keras"
      ]
    },
    {
      "cell_type": "code",
      "execution_count": null,
      "metadata": {
        "id": "FEAXOMKMk4-g"
      },
      "outputs": [],
      "source": [
        "# Importing all the dependencies for this notebook\n",
        "# All the keras library\n",
        "import keras\n",
        "# specifically the layers\n",
        "from keras import layers\n",
        "\n",
        "# we are going to produce a couple of plots\n",
        "import matplotlib.pyplot as plt\n",
        "# to see what is number e\n",
        "from math import e\n",
        "# to produce numpy arrays (vectors)\n",
        "import numpy as np"
      ]
    },
    {
      "cell_type": "code",
      "execution_count": null,
      "metadata": {
        "id": "kTLCdNTpk4-i"
      },
      "outputs": [],
      "source": [
        "# Plotting a sigmoid function\n",
        "fig = plt.figure(figsize=(5,5))\n",
        "x = np.arange(-10.0, 10.0, 0.01)\n",
        "print(x)"
      ]
    },
    {
      "cell_type": "code",
      "execution_count": null,
      "metadata": {
        "id": "e9miOd0fk4-i"
      },
      "outputs": [],
      "source": [
        "y = 1 / (1 + e**(-x))\n",
        "plt.plot(x, y)\n",
        "plt.axhline(y=0.5, xmin=-10, xmax=10, linestyle=\":\", linewidth=0.5)\n",
        "plt.axvline(x=0, ymin=-10, ymax=10, linestyle=\":\", linewidth=0.5)\n",
        "# here we are saving the figure. You can download it\n",
        "fig.savefig(\"10_sigmoid.png\")\n",
        "# here we are displaying the figure\n",
        "plt.show()"
      ]
    },
    {
      "cell_type": "code",
      "execution_count": null,
      "metadata": {
        "id": "I7e4a-iek4-i",
        "collapsed": true
      },
      "outputs": [],
      "source": [
        "# Curious about what x and y contain?\n",
        "print(\"x\\ty\")\n",
        "for i, j in zip(x, y): #range(len(x)):\n",
        "    print(i.round(2), \"\\t\", j.round(5))"
      ]
    },
    {
      "cell_type": "markdown",
      "metadata": {
        "id": "TqacEDK-k4-k"
      },
      "source": [
        "**Back to the slides**"
      ]
    },
    {
      "cell_type": "markdown",
      "metadata": {
        "id": "GCkNqm-yk4-k"
      },
      "source": [
        "## Neural network to lean the XOR logical function\n",
        "\n",
        "With non-linear functions and more than one neuron, we can learn more sophisticated functions"
      ]
    },
    {
      "cell_type": "code",
      "execution_count": null,
      "metadata": {
        "id": "7-Z8Mx4wk4-l"
      },
      "outputs": [],
      "source": [
        "# Instances for XOR\n",
        "# input\n",
        "x_train = np.array(\n",
        "    [[0, 0],\n",
        "    [0, 1],\n",
        "    [1, 0],\n",
        "    [1, 1]])\n",
        "\n",
        "# desired output\n",
        "y_train = np.array(\n",
        "    [[0],\n",
        "    [1],\n",
        "    [1],\n",
        "    [0]])"
      ]
    },
    {
      "cell_type": "code",
      "execution_count": null,
      "metadata": {
        "id": "2XeFXx_tk4-m"
      },
      "outputs": [],
      "source": [
        "# Creating the model\n",
        "\n",
        "# The first layer of the network will have 10 units\n",
        "num_neurons = 10\n",
        "\n",
        "# Sequential refers to a sequence of layers (the input is not sequential)\n",
        "model = keras.Sequential(\n",
        "    [\n",
        "        layers.Input([2,]),\n",
        "        # Input layer: 2 inputs, 10 units, hyperbolic tangent activation function\n",
        "        layers.Dense(num_neurons, activation=\"tanh\", name=\"layer1\"),  # input_dim=2,\n",
        "        # Hidden layer: How many units does it have? Which activation function?\n",
        "        layers.Dense(1, activation=\"sigmoid\", name=\"layer2\")\n",
        "    ]\n",
        ")\n",
        "model.summary()\n",
        "# Let's go to the slides (after analysing this summary a bit)"
      ]
    },
    {
      "cell_type": "markdown",
      "metadata": {
        "id": "tok-dMJBk4-n"
      },
      "source": [
        "First of all, [what is e](https://en.wikipedia.org/wiki/E_(mathematical_constant))?"
      ]
    },
    {
      "cell_type": "code",
      "execution_count": null,
      "metadata": {
        "id": "ZileYCifk4-n"
      },
      "outputs": [],
      "source": [
        "# The tanh (hyperbolic tangent)\n",
        "\n",
        "fig = plt.figure(figsize=(5,5))\n",
        "x = np.arange(-10.0, 10.0, 0.01)\n",
        "y = (e**x - e**(-x))/(e**x + e**(-x))\n",
        "plt.plot(x, y)\n",
        "plt.axhline(y=0, xmin=-10, xmax=10, linestyle=\":\", linewidth=0.5)\n",
        "plt.axvline(x=0, ymin=-10, ymax=10, linestyle=\":\", linewidth=0.5)\n",
        "fig.savefig(\"10_tanh.png\")\n",
        "plt.show()"
      ]
    },
    {
      "cell_type": "code",
      "execution_count": null,
      "metadata": {
        "id": "_58BRGPsk4-n"
      },
      "outputs": [],
      "source": [
        "# Building the model with stochastic gradient descent and alpha=0.1\n",
        "# (alpha is the learning rate)\n",
        "sgd = keras.optimizers.SGD()\n",
        "# SGD(learning_rate=0.1)\n",
        "model.compile(loss='binary_crossentropy',\n",
        "              optimizer=sgd,\n",
        "              metrics=['accuracy'])"
      ]
    },
    {
      "cell_type": "code",
      "execution_count": null,
      "metadata": {
        "id": "yZsO-zDWk4-n"
      },
      "outputs": [],
      "source": [
        "# Predicting with this model (before training: \"zero shot\")\n",
        "model.predict(x_train)"
      ]
    },
    {
      "cell_type": "code",
      "execution_count": null,
      "metadata": {
        "id": "ZVWWG5--k4-o"
      },
      "outputs": [],
      "source": [
        "# Train (fit) the model (if it doesn't converge, add more epochs)\n",
        "# (notice that this can be launched many times, augmenting the number of epochs)\n",
        "model.fit(x_train, y_train, epochs=400)\n",
        "\n",
        "print(\"\\nCurrent predictions:\\n\")\n",
        "model.predict(x_train)"
      ]
    },
    {
      "cell_type": "code",
      "execution_count": null,
      "metadata": {
        "id": "uVYhpyWZk4-o"
      },
      "outputs": [],
      "source": [
        "# Predicting with this model (after training)\n",
        "y_pred = model.predict(x_train)\n",
        "#        threshold     values to choose according to the threshold\n",
        "np.where(y_pred > 0.5, 1, 0)"
      ]
    },
    {
      "cell_type": "code",
      "execution_count": null,
      "metadata": {
        "id": "78wupE8vk4-o"
      },
      "outputs": [],
      "source": [
        "# Another way to get classes (if binary 0 vs 1 problem)\n",
        "model.predict(x_train).round()\n",
        "\n",
        "# Why this round works here:\n",
        "# The threshold is at 0.5\n",
        "# This is a binary problem\n",
        "# The story is a bit different for multi-class (e.g., np.argmax(model.predict(x), axis=-1))"
      ]
    },
    {
      "cell_type": "markdown",
      "metadata": {
        "id": "avx3QNgGk4-o"
      },
      "source": [
        "Finally, you can save your model to, for instance, deploy it later on"
      ]
    },
    {
      "cell_type": "code",
      "execution_count": null,
      "metadata": {
        "id": "irdvonE2k4-p"
      },
      "outputs": [],
      "source": [
        "import h5py\n",
        "model_structure = model.to_json()\n",
        "with open(\"basic_model.json\", \"w\") as json_file:\n",
        "    json_file.write(model_structure)\n",
        "model.save_weights(\"basic.weights.h5\")"
      ]
    },
    {
      "cell_type": "markdown",
      "metadata": {
        "id": "QvdfJt1Tk4-p"
      },
      "source": [
        "**end of the notebook**"
      ]
    },
    {
      "cell_type": "code",
      "source": [],
      "metadata": {
        "id": "ZproXRsmTZKT"
      },
      "execution_count": null,
      "outputs": []
    }
  ],
  "metadata": {
    "kernelspec": {
      "display_name": "Python 3",
      "language": "python",
      "name": "python3"
    },
    "language_info": {
      "codemirror_mode": {
        "name": "ipython",
        "version": 3
      },
      "file_extension": ".py",
      "mimetype": "text/x-python",
      "name": "python",
      "nbconvert_exporter": "python",
      "pygments_lexer": "ipython3",
      "version": "3.8.18"
    },
    "colab": {
      "provenance": []
    }
  },
  "nbformat": 4,
  "nbformat_minor": 0
}