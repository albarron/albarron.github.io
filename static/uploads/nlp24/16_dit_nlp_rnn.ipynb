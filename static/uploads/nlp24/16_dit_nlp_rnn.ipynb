{
  "cells": [
    {
      "cell_type": "markdown",
      "metadata": {
        "id": "NyPfhWMJ98hO"
      },
      "source": [
        "# DIT NLP lesson 2024\n",
        "\n",
        "## Recurrent neural networks"
      ]
    },
    {
      "cell_type": "code",
      "execution_count": null,
      "metadata": {
        "id": "WdFiAkHY98hR"
      },
      "outputs": [],
      "source": [
        "# Importing the dependencies\n",
        "import glob\n",
        "import numpy as np\n",
        "import os\n",
        "import tarfile\n",
        "\n",
        "\n",
        "from gensim.models.keyedvectors import KeyedVectors\n",
        "from nltk.tokenize import TreebankWordTokenizer\n",
        "from random import shuffle\n",
        "from urllib import request\n"
      ]
    },
    {
      "cell_type": "code",
      "source": [
        "PATH_TO_CORPUS = \"https://ai.stanford.edu/~amaas/data/sentiment/aclImdb_v1.tar.gz\"\n",
        "CORPUS_FILE_NAME = \"aclImdb_v1.tar.gz\"\n",
        "\n",
        "PATH_TO_GOOGLENEWS_VECTORS =\"https://www.dropbox.com/s/965dir4dje0hfi4/GoogleNews-vectors-negative300.bin.gz?dl=1\"\n",
        "GOOGLE_VECTORS = \"GoogleNews-vectors-negative300.bin.gz\"\n",
        "\n",
        "CORPUS_PATH = \"aclImdb/train\"\n",
        "\n",
        "def download_file(url_to_file, path_to_file):\n",
        "  if os.path.isfile(path_to_file):\n",
        "    print(\"A local copy of the file exists already:\", path_to_file, \"\\nDoing nothing\")\n",
        "  else:\n",
        "    request.urlretrieve(url_to_file, path_to_file)"
      ],
      "metadata": {
        "id": "Hi53NVmT-YPh"
      },
      "execution_count": null,
      "outputs": []
    },
    {
      "cell_type": "code",
      "execution_count": null,
      "metadata": {
        "id": "XCh5TzxQ98hS"
      },
      "outputs": [],
      "source": [
        "# Downloading the embeddings\n",
        "\n",
        "download_file(PATH_TO_GOOGLENEWS_VECTORS, GOOGLE_VECTORS)\n",
        "\n",
        "# Downloading and untaring the corpus\n",
        "\n",
        "download_file(PATH_TO_CORPUS, CORPUS_FILE_NAME)\n",
        "with tarfile.open(CORPUS_FILE_NAME) as f:\n",
        "  f.extractall(path=\".\")\n",
        "\n",
        "# # Add the paths to the corpus. It should end in aclImdb/train\n",
        "# CORPUS_PATH = \"aclImdb/train\"\n",
        "# # Add the path to the embeddings. It should end in GoogleNews-vectors-negative300.bin.gz\n",
        "# GOOGLE_VECTORS = \"GoogleNews-vectors-negative300.bin.gz\""
      ]
    },
    {
      "cell_type": "markdown",
      "metadata": {
        "id": "wBvErCFD98hS"
      },
      "source": [
        "**Note**: I am using the same methods as in the previous session.\n",
        "I should simply store them all in a .py file and import them, as\n",
        "with the libraries"
      ]
    },
    {
      "cell_type": "code",
      "execution_count": null,
      "metadata": {
        "id": "WfdAkqlc98hT"
      },
      "outputs": [],
      "source": [
        "# Data preprocessor\n",
        "def pre_process_data(filepath):\n",
        "    \"\"\"\n",
        "    Load pos and neg examples from separate dirs then shuffle them\n",
        "    together.\n",
        "    \"\"\"\n",
        "    positive_path = os.path.join(filepath, 'pos')\n",
        "    negative_path = os.path.join(filepath, 'neg')\n",
        "    pos_label = 1\n",
        "    neg_label = 0\n",
        "    dataset = []\n",
        "    for filename in glob.glob(os.path.join(positive_path, '*.txt')):\n",
        "        with open(filename, 'r') as f:\n",
        "            dataset.append((pos_label, f.read()))\n",
        "    for filename in glob.glob(os.path.join(negative_path, '*.txt')):\n",
        "        with open(filename, 'r') as f:\n",
        "            dataset.append((neg_label, f.read()))\n",
        "    shuffle(dataset)\n",
        "    return dataset\n",
        ""
      ]
    },
    {
      "cell_type": "code",
      "execution_count": null,
      "metadata": {
        "id": "YiIV-dv498hT"
      },
      "outputs": [],
      "source": [
        "# Tokenizing and vectorizing all the instances\n",
        "def tokenize_and_vectorize(dataset):\n",
        "    tokenizer = TreebankWordTokenizer()\n",
        "    vectorized_data = []\n",
        "    for sample in dataset:\n",
        "        tokens = tokenizer.tokenize(sample[1])\n",
        "        sample_vecs = []\n",
        "        for token in tokens:\n",
        "            try:\n",
        "                sample_vecs.append(word_vectors[token])\n",
        "            except KeyError:\n",
        "                pass\n",
        "        vectorized_data.append(sample_vecs)\n",
        "    return vectorized_data"
      ]
    },
    {
      "cell_type": "code",
      "execution_count": null,
      "metadata": {
        "id": "oanGri0e98hU"
      },
      "outputs": [],
      "source": [
        "# Method to pad or truncate the input\n",
        "# Not necessary in general; we apply it for comparison against the\n",
        "# previous session\n",
        "def pad_trunc(data, maxlen):\n",
        "    \"\"\"\n",
        "    For a given dataset pad with zero vectors or truncate to maxlen\n",
        "    \"\"\"\n",
        "    new_data = []\n",
        "    # Create a vector of 0s the length of our word vectors\n",
        "    zero_vector = []\n",
        "    for _ in range(len(data[0][0])):\n",
        "        zero_vector.append(0.0)\n",
        "\n",
        "    for sample in data:\n",
        "        if len(sample) > maxlen:\n",
        "            temp = sample[:maxlen]\n",
        "        elif len(sample) < maxlen:\n",
        "            temp = sample\n",
        "            # Append the appropriate number 0 vectors to the list\n",
        "            additional_elems = maxlen - len(sample)\n",
        "            for _ in range(additional_elems):\n",
        "                temp.append(zero_vector)\n",
        "        else:\n",
        "            temp = sample\n",
        "        new_data.append(temp)\n",
        "\n",
        "    return new_data"
      ]
    },
    {
      "cell_type": "code",
      "execution_count": null,
      "metadata": {
        "id": "VO3ZyNaH98hV"
      },
      "outputs": [],
      "source": [
        "# Extracting the expected output for all the instances\n",
        "\n",
        "# (this is so verbose!)\n",
        "# def collect_expected(dataset):\n",
        "#     \"\"\" Peel off the target values from the dataset \"\"\"\n",
        "#     expected = []\n",
        "#     for sample in dataset:\n",
        "#         expected.append(sample[0])\n",
        "#     return expected\n",
        "\n",
        "def collect_expected(dataset):\n",
        "    return [sample[0] for sample in dataset]\n",
        ""
      ]
    },
    {
      "cell_type": "code",
      "execution_count": null,
      "metadata": {
        "id": "_XtFutf798hV"
      },
      "outputs": [],
      "source": [
        "# Loading the embeddings\n",
        "word_vectors = KeyedVectors.load_word2vec_format(GOOGLE_VECTORS,\n",
        "    binary=True, limit=400000)"
      ]
    },
    {
      "cell_type": "code",
      "execution_count": null,
      "metadata": {
        "id": "A5m3L1tf98hW"
      },
      "outputs": [],
      "source": [
        "# Data preparation\n",
        "dataset = pre_process_data(CORPUS_PATH)\n",
        "vectorized_data = tokenize_and_vectorize(dataset)\n",
        "expected = collect_expected(dataset)\n",
        "split_point = int(len(vectorized_data) * .8)\n",
        "\n",
        "x_train = vectorized_data[:split_point]\n",
        "y_train = expected[:split_point]\n",
        "\n",
        "x_test = vectorized_data[split_point:]\n",
        "y_test = expected[split_point:]"
      ]
    },
    {
      "cell_type": "code",
      "execution_count": null,
      "metadata": {
        "id": "X1kQucNi98hX"
      },
      "outputs": [],
      "source": [
        "# Network parameters\n",
        "maxlen = 400\n",
        "batch_size = 32      # why?\n",
        "embedding_dims = 300\n",
        "epochs = 2\n",
        "num_neurons = 50"
      ]
    },
    {
      "cell_type": "code",
      "execution_count": null,
      "metadata": {
        "id": "xIoWW0rL98hX"
      },
      "outputs": [],
      "source": [
        "# Padding and shaping the data\n",
        "\n",
        "x_train = pad_trunc(x_train, maxlen)\n",
        "x_test = pad_trunc(x_test, maxlen)\n",
        "\n",
        "x_train = np.reshape(x_train, (len(x_train), maxlen, embedding_dims))\n",
        "y_train = np.array(y_train)\n",
        "\n",
        "x_test = np.reshape(x_test, (len(x_test), maxlen, embedding_dims))\n",
        "y_test = np.array(y_test)"
      ]
    },
    {
      "cell_type": "code",
      "execution_count": null,
      "metadata": {
        "id": "CvOLbI2P98hY"
      },
      "outputs": [],
      "source": [
        "# Initializing the (empty) network\n",
        "from keras.models import Sequential\n",
        "from keras.layers import Dense, Dropout, Input, Flatten, SimpleRNN\n",
        "\n",
        "model = Sequential()"
      ]
    },
    {
      "cell_type": "code",
      "execution_count": null,
      "metadata": {
        "id": "7Y7xJBP498hY"
      },
      "outputs": [],
      "source": [
        "# Adding one recurrent layer\n",
        "\n",
        "# In previous versions of keras (and in the book), the input\n",
        "# shape was defined as an argument to SimpleRNN. That way\n",
        "# still works, but adding an Input instead is adviced\n",
        "model.add(Input([maxlen, embedding_dims]))\n",
        "model.add(SimpleRNN(\n",
        "    num_neurons,\n",
        "    return_sequences=True,\n",
        "    # input_shape=(maxlen, embedding_dims)\n",
        "    )\n",
        "  )"
      ]
    },
    {
      "cell_type": "markdown",
      "metadata": {
        "id": "P4awyaMi98hY"
      },
      "source": [
        "**Back to the slides**"
      ]
    },
    {
      "cell_type": "code",
      "execution_count": null,
      "metadata": {
        "id": "1CQutbg298hY"
      },
      "outputs": [],
      "source": [
        "# Adding a dropout layer (remember why?)\n",
        "model.add(Dropout(.2))\n",
        "\n",
        "# Adding a flattening layer\n",
        "model.add(Flatten())\n",
        "\n",
        "# Adding the classifier\n",
        "model.add(Dense(1, activation='sigmoid'))"
      ]
    },
    {
      "cell_type": "markdown",
      "metadata": {
        "id": "2E0z1eEW98hZ"
      },
      "source": [
        "**Flatten?** back to the slides"
      ]
    },
    {
      "cell_type": "code",
      "execution_count": null,
      "metadata": {
        "id": "UnqYvG8G98hZ"
      },
      "outputs": [],
      "source": [
        "# Compiling the network\n",
        "model.compile('rmsprop',\n",
        "              'binary_crossentropy',\n",
        "              metrics=['accuracy'])\n",
        "model.summary()\n",
        "\n",
        "# 37,551 parameters!"
      ]
    },
    {
      "cell_type": "code",
      "execution_count": null,
      "metadata": {
        "id": "r0tz5fKR98hZ"
      },
      "outputs": [],
      "source": [
        "# Training the network\n",
        "\n",
        "model.fit(x_train, y_train,\n",
        "    batch_size=batch_size,\n",
        "    epochs=epochs,\n",
        "    validation_data=(x_test, y_test))"
      ]
    },
    {
      "cell_type": "markdown",
      "metadata": {
        "id": "JremPMdi98hZ"
      },
      "source": [
        "**Back to the slides**"
      ]
    },
    {
      "cell_type": "code",
      "execution_count": null,
      "metadata": {
        "id": "hEywD6dW98ha"
      },
      "outputs": [],
      "source": [
        "# Building a bigger network\n",
        "num_neurons = 100\n",
        "model = Sequential()\n",
        "model.add(SimpleRNN(\n",
        "    num_neurons,\n",
        "    return_sequences=True,\n",
        "    input_shape=(maxlen, embedding_dims))\n",
        "     )\n",
        "model.add(Dropout(.2))\n",
        "model.add(Flatten())\n",
        "model.add(Dense(1, activation='sigmoid'))\n",
        "model.compile('rmsprop', 'binary_crossentropy', metrics=['accuracy'])\n",
        "model.summary()"
      ]
    },
    {
      "cell_type": "code",
      "execution_count": null,
      "metadata": {
        "id": "TfYUwUud98ha"
      },
      "outputs": [],
      "source": [
        "# Training\n",
        "model.fit(x_train,\n",
        "    y_train,\n",
        "    batch_size=batch_size,\n",
        "    epochs=epochs,\n",
        "    validation_data=(x_test, y_test)\n",
        "     )"
      ]
    },
    {
      "cell_type": "markdown",
      "metadata": {
        "id": "i_v6JFmE98ha"
      },
      "source": [
        "The improvement is tiny*$\\rightarrow$ perhaps the network is too complex.\n",
        "\n",
        "\\* (or there might be no improvement!)\n",
        "\n",
        "Homework: try with 25 neurons"
      ]
    },
    {
      "cell_type": "code",
      "execution_count": null,
      "metadata": {
        "id": "QsI-vz9M98ha"
      },
      "outputs": [],
      "source": [
        "# Saving the network\n",
        "model_structure = model.to_json()\n",
        "with open(\"simplernn_model2.json\", \"w\") as json_file:\n",
        "    json_file.write(model_structure)\n",
        "model.save_weights(\"simplernn2.weights.h5\")"
      ]
    },
    {
      "cell_type": "code",
      "execution_count": null,
      "metadata": {
        "id": "jDr_g85998hb"
      },
      "outputs": [],
      "source": [
        "# Predicting\n",
        "sample_1 = \"\"\"I hate that the dismal weather had me down for so long, when\n",
        "will it break! Ugh, when does happiness return? The sun is blinding and\n",
        "the puffy clouds are too thin. I can't wait for the weekend.\"\"\"\n",
        "\n",
        "vec_list = tokenize_and_vectorize([(1, sample_1)])\n",
        "test_vec_list = pad_trunc(vec_list, maxlen)\n",
        "test_vec = np.reshape(\n",
        "    test_vec_list,\n",
        "    (len(test_vec_list), maxlen, embedding_dims))\n",
        "\n",
        "model.predict(test_vec)"
      ]
    },
    {
      "cell_type": "markdown",
      "metadata": {
        "id": "aHbzWyiM98hb"
      },
      "source": [
        "**End of the notebook**"
      ]
    },
    {
      "cell_type": "code",
      "execution_count": null,
      "metadata": {
        "id": "7YlInbbs98hb"
      },
      "outputs": [],
      "source": []
    }
  ],
  "metadata": {
    "kernelspec": {
      "display_name": "Python 3",
      "name": "python3"
    },
    "language_info": {
      "codemirror_mode": {
        "name": "ipython",
        "version": 3
      },
      "file_extension": ".py",
      "mimetype": "text/x-python",
      "name": "python",
      "nbconvert_exporter": "python",
      "pygments_lexer": "ipython3",
      "version": "3.9.16"
    },
    "colab": {
      "provenance": [],
      "gpuType": "A100"
    },
    "accelerator": "GPU"
  },
  "nbformat": 4,
  "nbformat_minor": 0
}